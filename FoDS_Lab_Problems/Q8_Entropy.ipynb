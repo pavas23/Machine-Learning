{
 "cells": [
  {
   "cell_type": "code",
   "execution_count": 1,
   "id": "bcfbc134",
   "metadata": {},
   "outputs": [],
   "source": [
    "import numpy as np\n",
    "import pandas as pd"
   ]
  },
  {
   "cell_type": "code",
   "execution_count": 2,
   "id": "3260df02",
   "metadata": {},
   "outputs": [
    {
     "name": "stdout",
     "output_type": "stream",
     "text": [
      "4 4 2\n",
      "1 0 1 0\n",
      "0 1 1 1\n",
      "1 1 0 0\n",
      "0 0 1 1\n",
      "0 1 1 0\n"
     ]
    }
   ],
   "source": [
    "# taking user input\n",
    "input_array = [int(x) for x in input().split()]\n",
    "n, m ,k = input_array[0], input_array[1], input_array[2]\n",
    "\n",
    "data_set = []\n",
    "for row in range(0,n):\n",
    "    df_row = [int(x) for x in input().split()]\n",
    "    data_set.append(df_row)\n",
    "\n",
    "data_set = pd.DataFrame(data_set)\n",
    "y = []\n",
    "y = [int(x) for x in input().split()]"
   ]
  },
  {
   "cell_type": "code",
   "execution_count": 3,
   "id": "0574de2a",
   "metadata": {},
   "outputs": [
    {
     "data": {
      "text/plain": [
       "[0, 1, 1, 0]"
      ]
     },
     "execution_count": 3,
     "metadata": {},
     "output_type": "execute_result"
    }
   ],
   "source": [
    "y"
   ]
  },
  {
   "cell_type": "code",
   "execution_count": 4,
   "id": "29a760d8",
   "metadata": {},
   "outputs": [],
   "source": [
    "def entropyX(X):\n",
    "    unique_elements, counts = np.unique(X,return_counts=True)\n",
    "    probabilities = [x/sum(counts) for x in counts]\n",
    "    ans = 0\n",
    "    for p in probabilities:\n",
    "        ans += p*np.log2(p)\n",
    "    return -ans"
   ]
  },
  {
   "cell_type": "code",
   "execution_count": 5,
   "id": "29fa893c",
   "metadata": {},
   "outputs": [],
   "source": [
    "def entropyXY(x,y):\n",
    "    unique_elements_x = np.unique(np.array(x))\n",
    "    unique_elements_y = np.unique(np.array(y))\n",
    "    probabilities = []\n",
    "    \n",
    "    for u in unique_elements_x:\n",
    "        for v in unique_elements_y:\n",
    "            count = 0\n",
    "            for i in range(len(x)):\n",
    "                if(x[i] == u and y[i] == v):\n",
    "                    count += 1\n",
    "            probabilities.append(count/len(x))\n",
    "    \n",
    "    ans = 0\n",
    "    for p in probabilities:\n",
    "        if p != 0:\n",
    "            ans += p*np.log2(1/p)\n",
    "    \n",
    "    return ans"
   ]
  },
  {
   "cell_type": "code",
   "execution_count": 6,
   "id": "17ffc12e",
   "metadata": {},
   "outputs": [
    {
     "data": {
      "text/html": [
       "<div>\n",
       "<style scoped>\n",
       "    .dataframe tbody tr th:only-of-type {\n",
       "        vertical-align: middle;\n",
       "    }\n",
       "\n",
       "    .dataframe tbody tr th {\n",
       "        vertical-align: top;\n",
       "    }\n",
       "\n",
       "    .dataframe thead th {\n",
       "        text-align: right;\n",
       "    }\n",
       "</style>\n",
       "<table border=\"1\" class=\"dataframe\">\n",
       "  <thead>\n",
       "    <tr style=\"text-align: right;\">\n",
       "      <th></th>\n",
       "      <th>0</th>\n",
       "      <th>1</th>\n",
       "      <th>2</th>\n",
       "      <th>3</th>\n",
       "    </tr>\n",
       "  </thead>\n",
       "  <tbody>\n",
       "    <tr>\n",
       "      <th>0</th>\n",
       "      <td>1</td>\n",
       "      <td>0</td>\n",
       "      <td>1</td>\n",
       "      <td>0</td>\n",
       "    </tr>\n",
       "    <tr>\n",
       "      <th>1</th>\n",
       "      <td>0</td>\n",
       "      <td>1</td>\n",
       "      <td>1</td>\n",
       "      <td>1</td>\n",
       "    </tr>\n",
       "    <tr>\n",
       "      <th>2</th>\n",
       "      <td>1</td>\n",
       "      <td>1</td>\n",
       "      <td>0</td>\n",
       "      <td>0</td>\n",
       "    </tr>\n",
       "    <tr>\n",
       "      <th>3</th>\n",
       "      <td>0</td>\n",
       "      <td>0</td>\n",
       "      <td>1</td>\n",
       "      <td>1</td>\n",
       "    </tr>\n",
       "  </tbody>\n",
       "</table>\n",
       "</div>"
      ],
      "text/plain": [
       "   0  1  2  3\n",
       "0  1  0  1  0\n",
       "1  0  1  1  1\n",
       "2  1  1  0  0\n",
       "3  0  0  1  1"
      ]
     },
     "execution_count": 6,
     "metadata": {},
     "output_type": "execute_result"
    }
   ],
   "source": [
    "data_set"
   ]
  },
  {
   "cell_type": "code",
   "execution_count": 7,
   "id": "4d4e3af1",
   "metadata": {},
   "outputs": [],
   "source": [
    "def feature_selection(X,y,k):\n",
    "    \n",
    "    information_gain = []\n",
    "    Hy = entropyX(np.array(y))\n",
    "\n",
    "    for col in range(m):\n",
    "        Hxy = entropyXY(X.iloc[:,col],y)\n",
    "        Hx = entropyX(X.iloc[:,col])\n",
    "        gain = Hx + Hy - Hxy\n",
    "        information_gain.append((gain,col+1))\n",
    "\n",
    "    # sorting array according to information gain in descending order\n",
    "    sorted_array = sorted(information_gain,key=lambda x : x[0],reverse=True)\n",
    "    \n",
    "    features = []\n",
    "    for i in range(k):\n",
    "        features.append(sorted_array[i][1])\n",
    "    \n",
    "    return sorted_array, features"
   ]
  },
  {
   "cell_type": "code",
   "execution_count": 8,
   "id": "4da4b455",
   "metadata": {},
   "outputs": [
    {
     "name": "stdout",
     "output_type": "stream",
     "text": [
      "[(1.0, 2), (0.31127812445913294, 3), (0.0, 1), (0.0, 4)]\n",
      "[2, 3]\n"
     ]
    }
   ],
   "source": [
    "information_gain, K_features = feature_selection(data_set,y,k)\n",
    "print(information_gain)\n",
    "print(K_features)"
   ]
  }
 ],
 "metadata": {
  "kernelspec": {
   "display_name": "Python 3 (ipykernel)",
   "language": "python",
   "name": "python3"
  },
  "language_info": {
   "codemirror_mode": {
    "name": "ipython",
    "version": 3
   },
   "file_extension": ".py",
   "mimetype": "text/x-python",
   "name": "python",
   "nbconvert_exporter": "python",
   "pygments_lexer": "ipython3",
   "version": "3.9.7"
  }
 },
 "nbformat": 4,
 "nbformat_minor": 5
}
