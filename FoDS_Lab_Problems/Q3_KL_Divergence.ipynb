{
 "cells": [
  {
   "cell_type": "code",
   "execution_count": 1,
   "id": "7800b9d7",
   "metadata": {},
   "outputs": [],
   "source": [
    "import numpy as np"
   ]
  },
  {
   "cell_type": "code",
   "execution_count": 2,
   "id": "13519f81",
   "metadata": {},
   "outputs": [
    {
     "name": "stdout",
     "output_type": "stream",
     "text": [
      "Input P(x):\n",
      "0.2 0.5 0.15 0.15\n",
      "Input Q(x):\n",
      "0.3 0.3 0.3 0.1\n",
      "KL Divergence = 0.18923467204704536\n"
     ]
    }
   ],
   "source": [
    "print(\"Input P(x):\")\n",
    "P = [float(x) for x in  input().split()]\n",
    "\n",
    "print(\"Input Q(x):\")\n",
    "Q = [float(x) for x in input().split()]\n",
    "\n",
    "if(len(P) != len(Q)):\n",
    "    print(\"Length of both distributions is not equal\")\n",
    "    \n",
    "else:\n",
    "    log_q_by_p = []\n",
    "\n",
    "    for i in range(len(P)):\n",
    "        if(Q[i] > 0 and P[i] > 0):\n",
    "            log_q_by_p.append(P[i] * np.log2(Q[i]/P[i]))\n",
    "\n",
    "    KL = -sum(log_q_by_p)\n",
    "\n",
    "    print(\"KL Divergence = \" + str(KL))"
   ]
  }
 ],
 "metadata": {
  "kernelspec": {
   "display_name": "Python 3 (ipykernel)",
   "language": "python",
   "name": "python3"
  },
  "language_info": {
   "codemirror_mode": {
    "name": "ipython",
    "version": 3
   },
   "file_extension": ".py",
   "mimetype": "text/x-python",
   "name": "python",
   "nbconvert_exporter": "python",
   "pygments_lexer": "ipython3",
   "version": "3.9.7"
  }
 },
 "nbformat": 4,
 "nbformat_minor": 5
}
