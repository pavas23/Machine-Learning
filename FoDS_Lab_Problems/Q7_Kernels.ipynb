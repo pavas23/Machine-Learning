{
 "cells": [
  {
   "cell_type": "code",
   "execution_count": 1,
   "id": "006a8cd4",
   "metadata": {},
   "outputs": [
    {
     "name": "stdout",
     "output_type": "stream",
     "text": [
      "Enter the dimension of the vectors: 3\n",
      "Enter values for the 1st vector:\n",
      "1 2 3\n",
      "Enter values for the 2nd vector:\n",
      "4 5 6\n"
     ]
    }
   ],
   "source": [
    "# Get the dimension of the vectors\n",
    "n = int(input(\"Enter the dimension of the vectors: \"))\n",
    "\n",
    "# Initialize empty lists for the vectors\n",
    "vector1 = []\n",
    "vector2 = []\n",
    "\n",
    "# Input values for the 1st vector\n",
    "print(\"Enter values for the 1st vector:\")\n",
    "input_str = input()\n",
    "vector1 = [float(value) for value in input_str.split()]\n",
    "\n",
    "# Input values for the 2nd vector\n",
    "print(\"Enter values for the 2nd vector:\")\n",
    "input_str = input()\n",
    "vector2 = [float(value) for value in input_str.split()]"
   ]
  },
  {
   "cell_type": "code",
   "execution_count": 2,
   "id": "08f17295",
   "metadata": {},
   "outputs": [],
   "source": [
    "def func_without_kernel(x,y):\n",
    "    f_x = []\n",
    "    f_y = []\n",
    "    \n",
    "    for i in range(n):\n",
    "        for j in range(n):\n",
    "            f_x.append(x[i]*x[j])\n",
    "            f_y.append(y[i]*y[j])\n",
    "    \n",
    "    ans = 0\n",
    "    for i in range(len(f_x)):\n",
    "        ans += f_x[i] * f_y[i]\n",
    "    \n",
    "    return ans"
   ]
  },
  {
   "cell_type": "code",
   "execution_count": 3,
   "id": "c46a5118",
   "metadata": {},
   "outputs": [
    {
     "name": "stdout",
     "output_type": "stream",
     "text": [
      "1024.0\n"
     ]
    }
   ],
   "source": [
    "print(func_without_kernel(vector1,vector2))"
   ]
  },
  {
   "cell_type": "code",
   "execution_count": 4,
   "id": "115c88fa",
   "metadata": {},
   "outputs": [],
   "source": [
    "def func_with_kernel(x,y):\n",
    "    ans = 0\n",
    "    for i in range(len(x)):\n",
    "        ans += x[i]*y[i]\n",
    "        \n",
    "    return ans**2"
   ]
  },
  {
   "cell_type": "code",
   "execution_count": 5,
   "id": "8c217239",
   "metadata": {},
   "outputs": [
    {
     "name": "stdout",
     "output_type": "stream",
     "text": [
      "1024.0\n"
     ]
    }
   ],
   "source": [
    "print(func_with_kernel(vector1,vector2))"
   ]
  },
  {
   "cell_type": "code",
   "execution_count": 6,
   "id": "9e695b9e",
   "metadata": {},
   "outputs": [
    {
     "name": "stdout",
     "output_type": "stream",
     "text": [
      "Value returned by both functions is same\n"
     ]
    }
   ],
   "source": [
    "# checking if value returned by both functions is same or not?\n",
    "if(func_without_kernel(vector1,vector2) == func_with_kernel(vector1,vector2)):\n",
    "    print(\"Value returned by both functions is same\")\n",
    "else:\n",
    "    print(\"Value returned by both functions is not same\")"
   ]
  },
  {
   "cell_type": "markdown",
   "id": "be1d1558",
   "metadata": {},
   "source": [
    "- Advantage of using Kernel functions is that they don't require complex computations, unlike functions which map input to higher dimensional space.\n",
    "\n",
    "- Kernel functions allow you to implicitly compute the dot products in the higher-dimensional space without explicitly computing the transformation. "
   ]
  }
 ],
 "metadata": {
  "kernelspec": {
   "display_name": "Python 3 (ipykernel)",
   "language": "python",
   "name": "python3"
  },
  "language_info": {
   "codemirror_mode": {
    "name": "ipython",
    "version": 3
   },
   "file_extension": ".py",
   "mimetype": "text/x-python",
   "name": "python",
   "nbconvert_exporter": "python",
   "pygments_lexer": "ipython3",
   "version": "3.9.7"
  }
 },
 "nbformat": 4,
 "nbformat_minor": 5
}
