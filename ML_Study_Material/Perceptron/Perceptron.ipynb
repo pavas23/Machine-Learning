{
  "cells": [
    {
      "cell_type": "markdown",
      "id": "92bcbc00",
      "metadata": {
        "id": "92bcbc00"
      },
      "source": [
        "### Perceptron Classifier\n",
        "\n",
        "A Perceptron is an algorithm used for supervised learning of binary classifiers. Binary classifiers decide whether an input, usually represented by a series of vectors, belongs to a specific class.\n",
        "The Single Layer perceptron is defined by its ability to linearly classify inputs. This means that this kind of model only utilizes a single hyperplane line and classifies the inputs as per the learned weights beforehand.\n",
        "<p>&nbsp;</p>\n",
        "\n",
        "#### Working of the perceptron model-\n",
        "\n",
        "\n",
        "\n",
        "\n",
        "<a href=\"https://deepai.org/machine-learning-glossary-and-terms/perceptron\"><img src=\"https://images.deepai.org/glossary-terms/e6f7f481a2fc43ea8c8fd8d32fbfcae4/1_n6sJ4yZQzwKL9wnF5wnVNg.png\" width=\"80%\" title=\"source: imgur.com\" /></a>\n",
        "\n",
        "The process begins by taking all the input values and multiplying them by their weights. Then, all of these multiplied values are added together to create the weighted sum. The weighted sum is then applied to the activation function, producing the perceptron's output. The activation function plays the integral role of ensuring the output is mapped between required values such as (0,1) or (-1,1). It is important to note that the weight of an input is indicative of the strength of a node. Similarly, an input's bias value gives the ability to shift the activation function curve up or down.\n",
        "\n",
        "\n",
        "In short, a perceptron is a single-layer neural network (*to be taught after mid-sem*). They consist of four main parts including input values, weights and bias, net sum, and an activation function.\n",
        "<p>&nbsp;</p>\n",
        "\n",
        "Reference: [Perceptron](https://www.analyticssteps.com/blogs/introduction-perceptron-model-machine-learning)\n",
        "\n",
        "Let's take an example to explain the Perceptron Classifier."
      ]
    },
    {
      "cell_type": "markdown",
      "id": "458f111f",
      "metadata": {
        "id": "458f111f"
      },
      "source": [
        "# Step 1: Importing Libraries"
      ]
    },
    {
      "cell_type": "code",
      "execution_count": null,
      "id": "ec961810",
      "metadata": {
        "id": "ec961810"
      },
      "outputs": [],
      "source": [
        "import matplotlib.pyplot as plt\n",
        "from sklearn.datasets import make_blobs"
      ]
    },
    {
      "cell_type": "markdown",
      "id": "0ec60ad8",
      "metadata": {
        "id": "0ec60ad8"
      },
      "source": [
        "# Step 2: Creating a Synthetic Dataset"
      ]
    },
    {
      "cell_type": "code",
      "execution_count": null,
      "id": "6ad82b2e",
      "metadata": {
        "id": "6ad82b2e"
      },
      "outputs": [],
      "source": [
        "n_samples = 500\n",
        "data, labels = make_blobs(n_samples=n_samples,\n",
        "                             centers=([1.1, 3], [4.5, 6.9]),\n",
        "                             cluster_std=1.3,\n",
        "                             random_state=0)"
      ]
    },
    {
      "cell_type": "markdown",
      "id": "a71875b2",
      "metadata": {
        "id": "a71875b2"
      },
      "source": [
        "# Step 3: Data Visualization and Analysis"
      ]
    },
    {
      "cell_type": "code",
      "execution_count": null,
      "id": "4f7f18a8",
      "metadata": {
        "id": "4f7f18a8",
        "outputId": "ca93e8d6-67b8-4275-8f0a-cbf69f2447e4",
        "colab": {
          "base_uri": "https://localhost:8080/",
          "height": 430
        }
      },
      "outputs": [
        {
          "output_type": "display_data",
          "data": {
            "text/plain": [
              "<Figure size 640x480 with 1 Axes>"
            ],
            "image/png": "[encoded data removed]"
          },
          "metadata": {}
        }
      ],
      "source": [
        "# Plotting the dataset\n",
        "colours = ('blue', 'black')\n",
        "fig, ax = plt.subplots()\n",
        "\n",
        "for n_class in range(2):\n",
        "    ax.scatter(\n",
        "        data[labels==n_class][:, 0],\n",
        "        data[labels==n_class][:, 1],\n",
        "        c=colours[n_class],\n",
        "        s=50,\n",
        "        label=str(n_class)\n",
        "    )"
      ]
    },
    {
      "cell_type": "markdown",
      "id": "75a9a4f8",
      "metadata": {
        "id": "75a9a4f8"
      },
      "source": [
        "# Step 4: Model Fitting"
      ]
    },
    {
      "cell_type": "markdown",
      "id": "706b6192",
      "metadata": {
        "id": "706b6192"
      },
      "source": [
        "## Train Test Split"
      ]
    },
    {
      "cell_type": "code",
      "execution_count": null,
      "id": "1da58427",
      "metadata": {
        "id": "1da58427"
      },
      "outputs": [],
      "source": [
        "from sklearn.model_selection import train_test_split\n",
        "X_train, X_test, y_train, y_test = train_test_split(\n",
        "    data,\n",
        "    labels,\n",
        "    test_size=0.3\n",
        ")"
      ]
    },
    {
      "cell_type": "markdown",
      "id": "d909305f",
      "metadata": {
        "id": "d909305f"
      },
      "source": [
        "## Fitting data on Perceptron Classifier"
      ]
    },
    {
      "cell_type": "code",
      "execution_count": null,
      "id": "984f363b",
      "metadata": {
        "id": "984f363b",
        "outputId": "7b6dd361-9424-450c-b8f7-a8c164ead266",
        "colab": {
          "base_uri": "https://localhost:8080/",
          "height": 75
        }
      },
      "outputs": [
        {
          "output_type": "execute_result",
          "data": {
            "text/plain": [
              "Perceptron(random_state=42)"
            ],
            "text/html": [
              "<style>#sk-container-id-1 {color: black;background-color: white;}#sk-container-id-1 pre{padding: 0;}#sk-container-id-1 div.sk-toggleable {background-color: white;}#sk-container-id-1 label.sk-toggleable__label {cursor: pointer;display: block;width: 100%;margin-bottom: 0;padding: 0.3em;box-sizing: border-box;text-align: center;}#sk-container-id-1 label.sk-toggleable__label-arrow:before {content: \"▸\";float: left;margin-right: 0.25em;color: #696969;}#sk-container-id-1 label.sk-toggleable__label-arrow:hover:before {color: black;}#sk-container-id-1 div.sk-estimator:hover label.sk-toggleable__label-arrow:before {color: black;}#sk-container-id-1 div.sk-toggleable__content {max-height: 0;max-width: 0;overflow: hidden;text-align: left;background-color: #f0f8ff;}#sk-container-id-1 div.sk-toggleable__content pre {margin: 0.2em;color: black;border-radius: 0.25em;background-color: #f0f8ff;}#sk-container-id-1 input.sk-toggleable__control:checked~div.sk-toggleable__content {max-height: 200px;max-width: 100%;overflow: auto;}#sk-container-id-1 input.sk-toggleable__control:checked~label.sk-toggleable__label-arrow:before {content: \"▾\";}#sk-container-id-1 div.sk-estimator input.sk-toggleable__control:checked~label.sk-toggleable__label {background-color: #d4ebff;}#sk-container-id-1 div.sk-label input.sk-toggleable__control:checked~label.sk-toggleable__label {background-color: #d4ebff;}#sk-container-id-1 input.sk-hidden--visually {border: 0;clip: rect(1px 1px 1px 1px);clip: rect(1px, 1px, 1px, 1px);height: 1px;margin: -1px;overflow: hidden;padding: 0;position: absolute;width: 1px;}#sk-container-id-1 div.sk-estimator {font-family: monospace;background-color: #f0f8ff;border: 1px dotted black;border-radius: 0.25em;box-sizing: border-box;margin-bottom: 0.5em;}#sk-container-id-1 div.sk-estimator:hover {background-color: #d4ebff;}#sk-container-id-1 div.sk-parallel-item::after {content: \"\";width: 100%;border-bottom: 1px solid gray;flex-grow: 1;}#sk-container-id-1 div.sk-label:hover label.sk-toggleable__label {background-color: #d4ebff;}#sk-container-id-1 div.sk-serial::before {content: \"\";position: absolute;border-left: 1px solid gray;box-sizing: border-box;top: 0;bottom: 0;left: 50%;z-index: 0;}#sk-container-id-1 div.sk-serial {display: flex;flex-direction: column;align-items: center;background-color: white;padding-right: 0.2em;padding-left: 0.2em;position: relative;}#sk-container-id-1 div.sk-item {position: relative;z-index: 1;}#sk-container-id-1 div.sk-parallel {display: flex;align-items: stretch;justify-content: center;background-color: white;position: relative;}#sk-container-id-1 div.sk-item::before, #sk-container-id-1 div.sk-parallel-item::before {content: \"\";position: absolute;border-left: 1px solid gray;box-sizing: border-box;top: 0;bottom: 0;left: 50%;z-index: -1;}#sk-container-id-1 div.sk-parallel-item {display: flex;flex-direction: column;z-index: 1;position: relative;background-color: white;}#sk-container-id-1 div.sk-parallel-item:first-child::after {align-self: flex-end;width: 50%;}#sk-container-id-1 div.sk-parallel-item:last-child::after {align-self: flex-start;width: 50%;}#sk-container-id-1 div.sk-parallel-item:only-child::after {width: 0;}#sk-container-id-1 div.sk-dashed-wrapped {border: 1px dashed gray;margin: 0 0.4em 0.5em 0.4em;box-sizing: border-box;padding-bottom: 0.4em;background-color: white;}#sk-container-id-1 div.sk-label label {font-family: monospace;font-weight: bold;display: inline-block;line-height: 1.2em;}#sk-container-id-1 div.sk-label-container {text-align: center;}#sk-container-id-1 div.sk-container {/* jupyter's `normalize.less` sets `[hidden] { display: none; }` but bootstrap.min.css set `[hidden] { display: none !important; }` so we also need the `!important` here to be able to override the default hidden behavior on the sphinx rendered scikit-learn.org. See: https://github.com/scikit-learn/scikit-learn/issues/21755 */display: inline-block !important;position: relative;}#sk-container-id-1 div.sk-text-repr-fallback {display: none;}</style><div id=\"sk-container-id-1\" class=\"sk-top-container\"><div class=\"sk-text-repr-fallback\"><pre>Perceptron(random_state=42)</pre><b>In a Jupyter environment, please rerun this cell to show the HTML representation or trust the notebook. <br />On GitHub, the HTML representation is unable to render, please try loading this page with nbviewer.org.</b></div><div class=\"sk-container\" hidden><div class=\"sk-item\"><div class=\"sk-estimator sk-toggleable\"><input class=\"sk-toggleable__control sk-hidden--visually\" id=\"sk-estimator-id-1\" type=\"checkbox\" checked><label for=\"sk-estimator-id-1\" class=\"sk-toggleable__label sk-toggleable__label-arrow\">Perceptron</label><div class=\"sk-toggleable__content\"><pre>Perceptron(random_state=42)</pre></div></div></div></div></div>"
            ]
          },
          "metadata": {},
          "execution_count": 5
        }
      ],
      "source": [
        "from sklearn.linear_model import Perceptron\n",
        "\n",
        "# Build a Perceptron Classifier\n",
        "p = Perceptron(random_state=42)\n",
        "\n",
        "# Model training\n",
        "p.fit(X_train, y_train)"
      ]
    },
    {
      "cell_type": "markdown",
      "id": "9f6bac8e",
      "metadata": {
        "id": "9f6bac8e"
      },
      "source": [
        "# Step 5: Model Evaluation"
      ]
    },
    {
      "cell_type": "markdown",
      "id": "22860357",
      "metadata": {
        "id": "22860357"
      },
      "source": [
        "## Running Classifier on all datapoints in Test Set"
      ]
    },
    {
      "cell_type": "code",
      "execution_count": null,
      "id": "ed7e82e5",
      "metadata": {
        "id": "ed7e82e5",
        "outputId": "2bc60bf1-48dc-4f0f-c262-60e80147da14",
        "colab": {
          "base_uri": "https://localhost:8080/"
        }
      },
      "outputs": [
        {
          "output_type": "stream",
          "name": "stdout",
          "text": [
            "score on train data:  0.9314285714285714\n",
            "score on test data:  0.9533333333333334\n"
          ]
        }
      ],
      "source": [
        "from sklearn.metrics import accuracy_score\n",
        "\n",
        "predictions_train = p.predict(X_train)\n",
        "predictions_test = p.predict(X_test)\n",
        "train_score = accuracy_score(predictions_train, y_train)\n",
        "print(\"score on train data: \", train_score)\n",
        "test_score = accuracy_score(predictions_test, y_test)\n",
        "print(\"score on test data: \", test_score)"
      ]
    },
    {
      "cell_type": "markdown",
      "id": "2a5d9c99",
      "metadata": {
        "id": "2a5d9c99"
      },
      "source": [
        "## Visualizing Predictions and their Accuracies"
      ]
    },
    {
      "cell_type": "code",
      "execution_count": null,
      "id": "6833420e",
      "metadata": {
        "id": "6833420e",
        "outputId": "bddb7592-810f-4435-be74-c71a857060a6",
        "colab": {
          "base_uri": "https://localhost:8080/",
          "height": 450
        }
      },
      "outputs": [
        {
          "output_type": "display_data",
          "data": {
            "text/plain": [
              "<Figure size 640x480 with 2 Axes>"
            ],
            "image/png": "[encoded data removed]"
          },
          "metadata": {}
        }
      ],
      "source": [
        "# The following confusion matrix shall show the numbers of Points in the classes\n",
        "# and their predicted classes as predicted by the classifier\n",
        "\n",
        "from sklearn.metrics import (\n",
        "    confusion_matrix,\n",
        "    ConfusionMatrixDisplay,\n",
        ")\n",
        "\n",
        "labels = [0,1]\n",
        "cm = confusion_matrix(y_test, predictions_test, labels=labels)\n",
        "disp = ConfusionMatrixDisplay(confusion_matrix=cm, display_labels=labels)\n",
        "disp.plot();"
      ]
    },
    {
      "cell_type": "markdown",
      "source": [
        "The above example was an illustration of the working of the perceptron model\n",
        "on a synthetic dataset created randomly.\n",
        "\n",
        "For more examples related to perceptron working on real-life datasets,\n",
        "you can refer to the following links -\n",
        "\n",
        "\n",
        "\n",
        "1.   [Perceptron on Iris Dataset (linearly separable)](https://towardsdatascience.com/perceptron-and-its-implementation-in-python-f87d6c7aa428)\n",
        "2.   [Perceptron on Pima Indians Diabetes Dataset](https://www.quantstart.com/articles/training-the-perceptron-with-scikit-learn-and-tensorflow/)\n",
        "3.   [Perceptron on Breast Cancer Dataset](https://www.kaggle.com/code/demakotajhosuaricky/breast-cancer-perceptron-algorithm/notebook)\n",
        "\n",
        "\n",
        "\n",
        "\n",
        "\n"
      ],
      "metadata": {
        "id": "kDlII9kDzqG0"
      },
      "id": "kDlII9kDzqG0"
    }
  ],
  "metadata": {
    "kernelspec": {
      "display_name": "Python 3 (ipykernel)",
      "language": "python",
      "name": "python3"
    },
    "language_info": {
      "codemirror_mode": {
        "name": "ipython",
        "version": 3
      },
      "file_extension": ".py",
      "mimetype": "text/x-python",
      "name": "python",
      "nbconvert_exporter": "python",
      "pygments_lexer": "ipython3",
      "version": "3.10.12"
    },
    "colab": {
      "provenance": [],
      "toc_visible": true
    }
  },
  "nbformat": 4,
  "nbformat_minor": 5
}