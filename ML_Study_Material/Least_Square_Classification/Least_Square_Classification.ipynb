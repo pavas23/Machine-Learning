{
  "cells": [
    {
      "cell_type": "markdown",
      "id": "92bcbc00",
      "metadata": {
        "id": "92bcbc00"
      },
      "source": [
        "### Least Squares Estimation\n",
        "\n",
        "This technique is quick and straightforward. Its purpose is to find a line or model that minimizes the error in the sum of the squares of differences with the real data samples. In other words, the general polynomial regression model can be developed using the method of least squares. The method of least squares aims to minimize the variance between the values estimated from the polynomial and the expected values from the dataset. (A simple explanation can be found on this <a href=\"https://towardsdatascience.com/derivation-of-least-squares-regressor-and-classifier-708be1358fe9\">link</a>.)\n",
        "\n",
        "The coefficients of the polynomial regression model can be determined by solving the following system of linear equations.\n",
        "<p>&nbsp;</p>\n",
        "\n",
        "#### The Generalized Equation-\n",
        "\n",
        "\n",
        "\n",
        "\n",
        "<a href=\"https://neutrium.net/mathematics/least-squares-fitting-of-a-polynomial/\"><img src=\"https://assets.leetcode.com/users/images/dab2565e-c443-495e-a57c-c0d8cdff97eb_1695231154.1541696.png\" width=\"80%\" title=\"LSC\" /></a>\n",
        "\n",
        "<p>&nbsp;</p>\n",
        "\n",
        "Reference: [LSC](https://neutrium.net/mathematics/least-squares-fitting-of-a-polynomial/)\n",
        "\n",
        "Let's take an example to illustrate the Least Squares Classifier."
      ]
    },
    {
      "cell_type": "markdown",
      "id": "458f111f",
      "metadata": {
        "id": "458f111f"
      },
      "source": [
        "# Step 1: Importing Libraries"
      ]
    },
    {
      "cell_type": "code",
      "execution_count": null,
      "id": "ec961810",
      "metadata": {
        "id": "ec961810"
      },
      "outputs": [],
      "source": [
        "import pandas as pd\n",
        "import numpy as np\n",
        "from sklearn import preprocessing"
      ]
    },
    {
      "cell_type": "markdown",
      "id": "0ec60ad8",
      "metadata": {
        "id": "0ec60ad8"
      },
      "source": [
        "# Step 2: Importing Dataset"
      ]
    },
    {
      "cell_type": "code",
      "execution_count": null,
      "id": "tj7IgNcb9e0g",
      "metadata": {
        "id": "tj7IgNcb9e0g"
      },
      "outputs": [],
      "source": [
        "# This box is for running notebook locally. Uncomment following lines to use\n",
        "\n",
        "# data = pd.read_csv('iris.csv')\n",
        "# print(data)"
      ]
    },
    {
      "cell_type": "code",
      "source": [
        "# This box is for running notebook on google collab\n",
        "\n",
        "from google.colab import files\n",
        "uploaded = files.upload()\n",
        "\n",
        "import io\n",
        "data = pd.read_csv(io.BytesIO(uploaded['iris.csv']))"
      ],
      "metadata": {
        "id": "JLQButePItH5",
        "colab": {
          "base_uri": "https://localhost:8080/",
          "height": 73
        },
        "outputId": "015cc9cf-f391-4efd-db7b-201ad5a4104b"
      },
      "id": "JLQButePItH5",
      "execution_count": null,
      "outputs": [
        {
          "output_type": "display_data",
          "data": {
            "text/plain": [
              "<IPython.core.display.HTML object>"
            ],
            "text/html": [
              "\n",
              "     <input type=\"file\" id=\"files-600b878b-61ce-43a4-934c-2c7011ceeca5\" name=\"files[]\" multiple disabled\n",
              "        style=\"border:none\" />\n",
              "     <output id=\"result-600b878b-61ce-43a4-934c-2c7011ceeca5\">\n",
              "      Upload widget is only available when the cell has been executed in the\n",
              "      current browser session. Please rerun this cell to enable.\n",
              "      </output>\n",
              "      <script>// Copyright 2017 Google LLC\n",
              "//\n",
              "// Licensed under the Apache License, Version 2.0 (the \"License\");\n",
              "// you may not use this file except in compliance with the License.\n",
              "// You may obtain a copy of the License at\n",
              "//\n",
              "//      http://www.apache.org/licenses/LICENSE-2.0\n",
              "//\n",
              "// Unless required by applicable law or agreed to in writing, software\n",
              "// distributed under the License is distributed on an \"AS IS\" BASIS,\n",
              "// WITHOUT WARRANTIES OR CONDITIONS OF ANY KIND, either express or implied.\n",
              "// See the License for the specific language governing permissions and\n",
              "// limitations under the License.\n",
              "\n",
              "/**\n",
              " * @fileoverview Helpers for google.colab Python module.\n",
              " */\n",
              "(function(scope) {\n",
              "function span(text, styleAttributes = {}) {\n",
              "  const element = document.createElement('span');\n",
              "  element.textContent = text;\n",
              "  for (const key of Object.keys(styleAttributes)) {\n",
              "    element.style[key] = styleAttributes[key];\n",
              "  }\n",
              "  return element;\n",
              "}\n",
              "\n",
              "// Max number of bytes which will be uploaded at a time.\n",
              "const MAX_PAYLOAD_SIZE = 100 * 1024;\n",
              "\n",
              "function _uploadFiles(inputId, outputId) {\n",
              "  const steps = uploadFilesStep(inputId, outputId);\n",
              "  const outputElement = document.getElementById(outputId);\n",
              "  // Cache steps on the outputElement to make it available for the next call\n",
              "  // to uploadFilesContinue from Python.\n",
              "  outputElement.steps = steps;\n",
              "\n",
              "  return _uploadFilesContinue(outputId);\n",
              "}\n",
              "\n",
              "// This is roughly an async generator (not supported in the browser yet),\n",
              "// where there are multiple asynchronous steps and the Python side is going\n",
              "// to poll for completion of each step.\n",
              "// This uses a Promise to block the python side on completion of each step,\n",
              "// then passes the result of the previous step as the input to the next step.\n",
              "function _uploadFilesContinue(outputId) {\n",
              "  const outputElement = document.getElementById(outputId);\n",
              "  const steps = outputElement.steps;\n",
              "\n",
              "  const next = steps.next(outputElement.lastPromiseValue);\n",
              "  return Promise.resolve(next.value.promise).then((value) => {\n",
              "    // Cache the last promise value to make it available to the next\n",
              "    // step of the generator.\n",
              "    outputElement.lastPromiseValue = value;\n",
              "    return next.value.response;\n",
              "  });\n",
              "}\n",
              "\n",
              "/**\n",
              " * Generator function which is called between each async step of the upload\n",
              " * process.\n",
              " * @param {string} inputId Element ID of the input file picker element.\n",
              " * @param {string} outputId Element ID of the output display.\n",
              " * @return {!Iterable<!Object>} Iterable of next steps.\n",
              " */\n",
              "function* uploadFilesStep(inputId, outputId) {\n",
              "  const inputElement = document.getElementById(inputId);\n",
              "  inputElement.disabled = false;\n",
              "\n",
              "  const outputElement = document.getElementById(outputId);\n",
              "  outputElement.innerHTML = '';\n",
              "\n",
              "  const pickedPromise = new Promise((resolve) => {\n",
              "    inputElement.addEventListener('change', (e) => {\n",
              "      resolve(e.target.files);\n",
              "    });\n",
              "  });\n",
              "\n",
              "  const cancel = document.createElement('button');\n",
              "  inputElement.parentElement.appendChild(cancel);\n",
              "  cancel.textContent = 'Cancel upload';\n",
              "  const cancelPromise = new Promise((resolve) => {\n",
              "    cancel.onclick = () => {\n",
              "      resolve(null);\n",
              "    };\n",
              "  });\n",
              "\n",
              "  // Wait for the user to pick the files.\n",
              "  const files = yield {\n",
              "    promise: Promise.race([pickedPromise, cancelPromise]),\n",
              "    response: {\n",
              "      action: 'starting',\n",
              "    }\n",
              "  };\n",
              "\n",
              "  cancel.remove();\n",
              "\n",
              "  // Disable the input element since further picks are not allowed.\n",
              "  inputElement.disabled = true;\n",
              "\n",
              "  if (!files) {\n",
              "    return {\n",
              "      response: {\n",
              "        action: 'complete',\n",
              "      }\n",
              "    };\n",
              "  }\n",
              "\n",
              "  for (const file of files) {\n",
              "    const li = document.createElement('li');\n",
              "    li.append(span(file.name, {fontWeight: 'bold'}));\n",
              "    li.append(span(\n",
              "        `(${file.type || 'n/a'}) - ${file.size} bytes, ` +\n",
              "        `last modified: ${\n",
              "            file.lastModifiedDate ? file.lastModifiedDate.toLocaleDateString() :\n",
              "                                    'n/a'} - `));\n",
              "    const percent = span('0% done');\n",
              "    li.appendChild(percent);\n",
              "\n",
              "    outputElement.appendChild(li);\n",
              "\n",
              "    const fileDataPromise = new Promise((resolve) => {\n",
              "      const reader = new FileReader();\n",
              "      reader.onload = (e) => {\n",
              "        resolve(e.target.result);\n",
              "      };\n",
              "      reader.readAsArrayBuffer(file);\n",
              "    });\n",
              "    // Wait for the data to be ready.\n",
              "    let fileData = yield {\n",
              "      promise: fileDataPromise,\n",
              "      response: {\n",
              "        action: 'continue',\n",
              "      }\n",
              "    };\n",
              "\n",
              "    // Use a chunked sending to avoid message size limits. See b/62115660.\n",
              "    let position = 0;\n",
              "    do {\n",
              "      const length = Math.min(fileData.byteLength - position, MAX_PAYLOAD_SIZE);\n",
              "      const chunk = new Uint8Array(fileData, position, length);\n",
              "      position += length;\n",
              "\n",
              "      const base64 = btoa(String.fromCharCode.apply(null, chunk));\n",
              "      yield {\n",
              "        response: {\n",
              "          action: 'append',\n",
              "          file: file.name,\n",
              "          data: base64,\n",
              "        },\n",
              "      };\n",
              "\n",
              "      let percentDone = fileData.byteLength === 0 ?\n",
              "          100 :\n",
              "          Math.round((position / fileData.byteLength) * 100);\n",
              "      percent.textContent = `${percentDone}% done`;\n",
              "\n",
              "    } while (position < fileData.byteLength);\n",
              "  }\n",
              "\n",
              "  // All done.\n",
              "  yield {\n",
              "    response: {\n",
              "      action: 'complete',\n",
              "    }\n",
              "  };\n",
              "}\n",
              "\n",
              "scope.google = scope.google || {};\n",
              "scope.google.colab = scope.google.colab || {};\n",
              "scope.google.colab._files = {\n",
              "  _uploadFiles,\n",
              "  _uploadFilesContinue,\n",
              "};\n",
              "})(self);\n",
              "</script> "
            ]
          },
          "metadata": {}
        },
        {
          "output_type": "stream",
          "name": "stdout",
          "text": [
            "Saving iris.csv to iris (2).csv\n"
          ]
        }
      ]
    },
    {
      "cell_type": "markdown",
      "id": "a71875b2",
      "metadata": {
        "id": "a71875b2"
      },
      "source": [
        "# Step 3: Data Visualization and Processing"
      ]
    },
    {
      "cell_type": "code",
      "execution_count": null,
      "id": "4f7f18a8",
      "metadata": {
        "id": "4f7f18a8"
      },
      "outputs": [],
      "source": [
        "y = data['target']\n",
        "x = data.drop('target', axis=1).astype(np.float64)\n",
        "\n",
        "from sklearn.model_selection import train_test_split\n",
        "x_train,x_test,y_train,y_test = train_test_split(x,y,stratify=y,test_size=0.3)\n",
        "x_train.insert(4,\"4\",1) # Adding a bias term to the features\n",
        "x_test.insert(4,\"4\",1)\n",
        "\n",
        "lb = preprocessing.LabelBinarizer() # To convert class name to numerical data (one-hot encoding of target labels)\n",
        "y_train = lb.fit_transform(y_train)"
      ]
    },
    {
      "cell_type": "markdown",
      "id": "75a9a4f8",
      "metadata": {
        "id": "75a9a4f8"
      },
      "source": [
        "# Step 4: Model Fitting"
      ]
    },
    {
      "cell_type": "markdown",
      "id": "706b6192",
      "metadata": {
        "id": "706b6192"
      },
      "source": [
        "## Solving the Least Squares equation to get the weights\n",
        "\n",
        "Equation -\n",
        "\n",
        "<a href=\"https://neutrium.net/mathematics/least-squares-fitting-of-a-polynomial/\"><img src=\"https://assets.leetcode.com/users/images/c22d719d-b335-4327-8a2d-ab3865d5d3d5_1695238858.6975925.png\" width=\"40%\" title=\"LSC\" /></a>\n",
        "\n"
      ]
    },
    {
      "cell_type": "code",
      "execution_count": null,
      "id": "1da58427",
      "metadata": {
        "id": "1da58427",
        "colab": {
          "base_uri": "https://localhost:8080/",
          "height": 143
        },
        "outputId": "cbe871d4-f25e-424a-cd26-32bf5ad57053"
      },
      "outputs": [
        {
          "output_type": "execute_result",
          "data": {
            "text/plain": [
              "          0         1         2         3         4\n",
              "0  0.016411  0.317862 -0.187941 -0.087426  0.079865\n",
              "1  0.078830 -0.582180  0.163378 -0.479791  1.595614\n",
              "2 -0.095241  0.264318  0.024563  0.567217 -0.675480"
            ],
            "text/html": [
              "\n",
              "  <div id=\"df-cd4e8664-f88d-4b5e-90da-01dc61125822\" class=\"colab-df-container\">\n",
              "    <div>\n",
              "<style scoped>\n",
              "    .dataframe tbody tr th:only-of-type {\n",
              "        vertical-align: middle;\n",
              "    }\n",
              "\n",
              "    .dataframe tbody tr th {\n",
              "        vertical-align: top;\n",
              "    }\n",
              "\n",
              "    .dataframe thead th {\n",
              "        text-align: right;\n",
              "    }\n",
              "</style>\n",
              "<table border=\"1\" class=\"dataframe\">\n",
              "  <thead>\n",
              "    <tr style=\"text-align: right;\">\n",
              "      <th></th>\n",
              "      <th>0</th>\n",
              "      <th>1</th>\n",
              "      <th>2</th>\n",
              "      <th>3</th>\n",
              "      <th>4</th>\n",
              "    </tr>\n",
              "  </thead>\n",
              "  <tbody>\n",
              "    <tr>\n",
              "      <th>0</th>\n",
              "      <td>0.016411</td>\n",
              "      <td>0.317862</td>\n",
              "      <td>-0.187941</td>\n",
              "      <td>-0.087426</td>\n",
              "      <td>0.079865</td>\n",
              "    </tr>\n",
              "    <tr>\n",
              "      <th>1</th>\n",
              "      <td>0.078830</td>\n",
              "      <td>-0.582180</td>\n",
              "      <td>0.163378</td>\n",
              "      <td>-0.479791</td>\n",
              "      <td>1.595614</td>\n",
              "    </tr>\n",
              "    <tr>\n",
              "      <th>2</th>\n",
              "      <td>-0.095241</td>\n",
              "      <td>0.264318</td>\n",
              "      <td>0.024563</td>\n",
              "      <td>0.567217</td>\n",
              "      <td>-0.675480</td>\n",
              "    </tr>\n",
              "  </tbody>\n",
              "</table>\n",
              "</div>\n",
              "    <div class=\"colab-df-buttons\">\n",
              "\n",
              "  <div class=\"colab-df-container\">\n",
              "    <button class=\"colab-df-convert\" onclick=\"convertToInteractive('df-cd4e8664-f88d-4b5e-90da-01dc61125822')\"\n",
              "            title=\"Convert this dataframe to an interactive table.\"\n",
              "            style=\"display:none;\">\n",
              "\n",
              "  <svg xmlns=\"http://www.w3.org/2000/svg\" height=\"24px\" viewBox=\"0 -960 960 960\">\n",
              "    <path d=\"M120-120v-720h720v720H120Zm60-500h600v-160H180v160Zm220 220h160v-160H400v160Zm0 220h160v-160H400v160ZM180-400h160v-160H180v160Zm440 0h160v-160H620v160ZM180-180h160v-160H180v160Zm440 0h160v-160H620v160Z\"/>\n",
              "  </svg>\n",
              "    </button>\n",
              "\n",
              "  <style>\n",
              "    .colab-df-container {\n",
              "      display:flex;\n",
              "      gap: 12px;\n",
              "    }\n",
              "\n",
              "    .colab-df-convert {\n",
              "      background-color: #E8F0FE;\n",
              "      border: none;\n",
              "      border-radius: 50%;\n",
              "      cursor: pointer;\n",
              "      display: none;\n",
              "      fill: #1967D2;\n",
              "      height: 32px;\n",
              "      padding: 0 0 0 0;\n",
              "      width: 32px;\n",
              "    }\n",
              "\n",
              "    .colab-df-convert:hover {\n",
              "      background-color: #E2EBFA;\n",
              "      box-shadow: 0px 1px 2px rgba(60, 64, 67, 0.3), 0px 1px 3px 1px rgba(60, 64, 67, 0.15);\n",
              "      fill: #174EA6;\n",
              "    }\n",
              "\n",
              "    .colab-df-buttons div {\n",
              "      margin-bottom: 4px;\n",
              "    }\n",
              "\n",
              "    [theme=dark] .colab-df-convert {\n",
              "      background-color: #3B4455;\n",
              "      fill: #D2E3FC;\n",
              "    }\n",
              "\n",
              "    [theme=dark] .colab-df-convert:hover {\n",
              "      background-color: #434B5C;\n",
              "      box-shadow: 0px 1px 3px 1px rgba(0, 0, 0, 0.15);\n",
              "      filter: drop-shadow(0px 1px 2px rgba(0, 0, 0, 0.3));\n",
              "      fill: #FFFFFF;\n",
              "    }\n",
              "  </style>\n",
              "\n",
              "    <script>\n",
              "      const buttonEl =\n",
              "        document.querySelector('#df-cd4e8664-f88d-4b5e-90da-01dc61125822 button.colab-df-convert');\n",
              "      buttonEl.style.display =\n",
              "        google.colab.kernel.accessAllowed ? 'block' : 'none';\n",
              "\n",
              "      async function convertToInteractive(key) {\n",
              "        const element = document.querySelector('#df-cd4e8664-f88d-4b5e-90da-01dc61125822');\n",
              "        const dataTable =\n",
              "          await google.colab.kernel.invokeFunction('convertToInteractive',\n",
              "                                                    [key], {});\n",
              "        if (!dataTable) return;\n",
              "\n",
              "        const docLinkHtml = 'Like what you see? Visit the ' +\n",
              "          '<a target=\"_blank\" href=https://colab.research.google.com/notebooks/data_table.ipynb>data table notebook</a>'\n",
              "          + ' to learn more about interactive tables.';\n",
              "        element.innerHTML = '';\n",
              "        dataTable['output_type'] = 'display_data';\n",
              "        await google.colab.output.renderOutput(dataTable, element);\n",
              "        const docLink = document.createElement('div');\n",
              "        docLink.innerHTML = docLinkHtml;\n",
              "        element.appendChild(docLink);\n",
              "      }\n",
              "    </script>\n",
              "  </div>\n",
              "\n",
              "\n",
              "<div id=\"df-eac8565a-14e0-46b6-b378-1bda7492f454\">\n",
              "  <button class=\"colab-df-quickchart\" onclick=\"quickchart('df-eac8565a-14e0-46b6-b378-1bda7492f454')\"\n",
              "            title=\"Suggest charts.\"\n",
              "            style=\"display:none;\">\n",
              "\n",
              "<svg xmlns=\"http://www.w3.org/2000/svg\" height=\"24px\"viewBox=\"0 0 24 24\"\n",
              "     width=\"24px\">\n",
              "    <g>\n",
              "        <path d=\"M19 3H5c-1.1 0-2 .9-2 2v14c0 1.1.9 2 2 2h14c1.1 0 2-.9 2-2V5c0-1.1-.9-2-2-2zM9 17H7v-7h2v7zm4 0h-2V7h2v10zm4 0h-2v-4h2v4z\"/>\n",
              "    </g>\n",
              "</svg>\n",
              "  </button>\n",
              "\n",
              "<style>\n",
              "  .colab-df-quickchart {\n",
              "      --bg-color: #E8F0FE;\n",
              "      --fill-color: #1967D2;\n",
              "      --hover-bg-color: #E2EBFA;\n",
              "      --hover-fill-color: #174EA6;\n",
              "      --disabled-fill-color: #AAA;\n",
              "      --disabled-bg-color: #DDD;\n",
              "  }\n",
              "\n",
              "  [theme=dark] .colab-df-quickchart {\n",
              "      --bg-color: #3B4455;\n",
              "      --fill-color: #D2E3FC;\n",
              "      --hover-bg-color: #434B5C;\n",
              "      --hover-fill-color: #FFFFFF;\n",
              "      --disabled-bg-color: #3B4455;\n",
              "      --disabled-fill-color: #666;\n",
              "  }\n",
              "\n",
              "  .colab-df-quickchart {\n",
              "    background-color: var(--bg-color);\n",
              "    border: none;\n",
              "    border-radius: 50%;\n",
              "    cursor: pointer;\n",
              "    display: none;\n",
              "    fill: var(--fill-color);\n",
              "    height: 32px;\n",
              "    padding: 0;\n",
              "    width: 32px;\n",
              "  }\n",
              "\n",
              "  .colab-df-quickchart:hover {\n",
              "    background-color: var(--hover-bg-color);\n",
              "    box-shadow: 0 1px 2px rgba(60, 64, 67, 0.3), 0 1px 3px 1px rgba(60, 64, 67, 0.15);\n",
              "    fill: var(--button-hover-fill-color);\n",
              "  }\n",
              "\n",
              "  .colab-df-quickchart-complete:disabled,\n",
              "  .colab-df-quickchart-complete:disabled:hover {\n",
              "    background-color: var(--disabled-bg-color);\n",
              "    fill: var(--disabled-fill-color);\n",
              "    box-shadow: none;\n",
              "  }\n",
              "\n",
              "  .colab-df-spinner {\n",
              "    border: 2px solid var(--fill-color);\n",
              "    border-color: transparent;\n",
              "    border-bottom-color: var(--fill-color);\n",
              "    animation:\n",
              "      spin 1s steps(1) infinite;\n",
              "  }\n",
              "\n",
              "  @keyframes spin {\n",
              "    0% {\n",
              "      border-color: transparent;\n",
              "      border-bottom-color: var(--fill-color);\n",
              "      border-left-color: var(--fill-color);\n",
              "    }\n",
              "    20% {\n",
              "      border-color: transparent;\n",
              "      border-left-color: var(--fill-color);\n",
              "      border-top-color: var(--fill-color);\n",
              "    }\n",
              "    30% {\n",
              "      border-color: transparent;\n",
              "      border-left-color: var(--fill-color);\n",
              "      border-top-color: var(--fill-color);\n",
              "      border-right-color: var(--fill-color);\n",
              "    }\n",
              "    40% {\n",
              "      border-color: transparent;\n",
              "      border-right-color: var(--fill-color);\n",
              "      border-top-color: var(--fill-color);\n",
              "    }\n",
              "    60% {\n",
              "      border-color: transparent;\n",
              "      border-right-color: var(--fill-color);\n",
              "    }\n",
              "    80% {\n",
              "      border-color: transparent;\n",
              "      border-right-color: var(--fill-color);\n",
              "      border-bottom-color: var(--fill-color);\n",
              "    }\n",
              "    90% {\n",
              "      border-color: transparent;\n",
              "      border-bottom-color: var(--fill-color);\n",
              "    }\n",
              "  }\n",
              "</style>\n",
              "\n",
              "  <script>\n",
              "    async function quickchart(key) {\n",
              "      const quickchartButtonEl =\n",
              "        document.querySelector('#' + key + ' button');\n",
              "      quickchartButtonEl.disabled = true;  // To prevent multiple clicks.\n",
              "      quickchartButtonEl.classList.add('colab-df-spinner');\n",
              "      try {\n",
              "        const charts = await google.colab.kernel.invokeFunction(\n",
              "            'suggestCharts', [key], {});\n",
              "      } catch (error) {\n",
              "        console.error('Error during call to suggestCharts:', error);\n",
              "      }\n",
              "      quickchartButtonEl.classList.remove('colab-df-spinner');\n",
              "      quickchartButtonEl.classList.add('colab-df-quickchart-complete');\n",
              "    }\n",
              "    (() => {\n",
              "      let quickchartButtonEl =\n",
              "        document.querySelector('#df-eac8565a-14e0-46b6-b378-1bda7492f454 button');\n",
              "      quickchartButtonEl.style.display =\n",
              "        google.colab.kernel.accessAllowed ? 'block' : 'none';\n",
              "    })();\n",
              "  </script>\n",
              "</div>\n",
              "    </div>\n",
              "  </div>\n"
            ]
          },
          "metadata": {},
          "execution_count": 8
        }
      ],
      "source": [
        "# The above equation can be implemented in the following manner:\n",
        "w1 = x_train.T.dot(y_train).T\n",
        "w2 = np.linalg.inv(x_train.T.dot(x_train))\n",
        "\n",
        "# w1 represents a vector where each element corresponds to the weighted sum of all training examples' features\n",
        "# with respect to their target labels. In other words, it captures how much each feature contributes to\n",
        "# the prediction of the target labels.\n",
        "\n",
        "# w2 represents a matrix that is used to normalize the contributions of each feature. It helps to ensure that\n",
        "# features with different scales do not dominate the weight calculations. By taking the inverse of\n",
        "# the dot product of the transposed features with themselves, you effectively account for the relationships\n",
        "# between different features and their variances.\n",
        "\n",
        "\n",
        "weights = w1.dot(w2)\n",
        "weights\n",
        "\n",
        "# These coefficients are chosen to minimize the squared error between the predicted values (based on\n",
        "# the input features and these weights) and the actual target labels. The dot product combines\n",
        "# the information from both w1 and w2, effectively tuning the importance of each feature while considering\n",
        "# their relationships and variances."
      ]
    },
    {
      "cell_type": "markdown",
      "id": "9f6bac8e",
      "metadata": {
        "id": "9f6bac8e"
      },
      "source": [
        "# Step 5: Model Evaluation"
      ]
    },
    {
      "cell_type": "code",
      "execution_count": null,
      "id": "984f363b",
      "metadata": {
        "id": "984f363b"
      },
      "outputs": [],
      "source": [
        "\n",
        "y_pred = []\n",
        "maximum = -2\n",
        "\n",
        "# To predict the class of a given test sample, we take the dot product of the\n",
        "# sample with the weights matrix and assign the class with the maximum value in the\n",
        "# resultant matrix as the predicted class.\n",
        "\n",
        "# To implement this approach in code, we can do the following:\n",
        "# For each sample in x_test, we calculate the value with all the classes' weights\n",
        "# by taking the dot products.\n",
        "# And then, predict the class with the maximum score as the predicted class of that particular sample.\n",
        "\n",
        "for index, x in x_test.iterrows():\n",
        "    for idx,w in weights.iterrows():\n",
        "        a = np.array(x).flatten()\n",
        "        b = np.array(w).flatten()\n",
        "        s = a.dot(b)\n",
        "        if(s > maximum):\n",
        "            maximum = s\n",
        "            ind = idx\n",
        "    maximum = -2\n",
        "    y_pred.append(ind)\n",
        "    ind = 0\n",
        "\n",
        "y_pred = lb.fit_transform(y_pred)\n",
        "y_test = lb.fit_transform(y_test)\n",
        "# y_pred and y_test take the transformed values from [1, 0, 0], [0, 1, 0], and [0, 0, 1]\n",
        "# for the orginal target labels \"Iris-setosa\", \"Iris-versicolor\", and \"Iris-virginica\", respectively."
      ]
    },
    {
      "cell_type": "markdown",
      "id": "pUeJIr-aERkn",
      "metadata": {
        "id": "pUeJIr-aERkn"
      },
      "source": [
        "## Accuracy Calculation"
      ]
    },
    {
      "cell_type": "code",
      "execution_count": null,
      "id": "ed7e82e5",
      "metadata": {
        "id": "ed7e82e5",
        "colab": {
          "base_uri": "https://localhost:8080/"
        },
        "outputId": "7e349a0e-254e-4469-b26e-e247238e4424"
      },
      "outputs": [
        {
          "output_type": "stream",
          "name": "stdout",
          "text": [
            "Accuracy: 0.7111111111111111\n"
          ]
        }
      ],
      "source": [
        "from sklearn.metrics import accuracy_score\n",
        "print(f\"Accuracy: {accuracy_score(y_pred,y_test)}\")"
      ]
    },
    {
      "cell_type": "markdown",
      "id": "tZO3BrP6Eba9",
      "metadata": {
        "id": "tZO3BrP6Eba9"
      },
      "source": [
        "## Confusion Matrix"
      ]
    },
    {
      "cell_type": "code",
      "execution_count": null,
      "id": "e8JqWAwCAau6",
      "metadata": {
        "id": "e8JqWAwCAau6",
        "colab": {
          "base_uri": "https://localhost:8080/",
          "height": 472
        },
        "outputId": "93606976-5f52-42aa-c46c-e4a10b983f0f"
      },
      "outputs": [
        {
          "output_type": "execute_result",
          "data": {
            "text/plain": [
              "<sklearn.metrics._plot.confusion_matrix.ConfusionMatrixDisplay at 0x7ae36334b850>"
            ]
          },
          "metadata": {},
          "execution_count": 11
        },
        {
          "output_type": "display_data",
          "data": {
            "text/plain": [
              "<Figure size 640x480 with 2 Axes>"
            ],
            "image/png": "[encoded data removed]"
          },
          "metadata": {}
        }
      ],
      "source": [
        "from sklearn.metrics import (\n",
        "    confusion_matrix,\n",
        "    ConfusionMatrixDisplay,\n",
        ")\n",
        "\n",
        "y_test_non_category = [ np.argmax(t) for t in y_test ]\n",
        "y_predict_non_category = [ np.argmax(t) for t in y_pred ]\n",
        "\n",
        "labels = lb.classes_\n",
        "cm = confusion_matrix(y_test_non_category, y_predict_non_category)\n",
        "disp = ConfusionMatrixDisplay(confusion_matrix=cm, display_labels=labels)\n",
        "disp.plot()"
      ]
    },
    {
      "cell_type": "markdown",
      "id": "c0b1dd95",
      "metadata": {
        "id": "c0b1dd95"
      },
      "source": [
        "## Test Sample"
      ]
    },
    {
      "cell_type": "code",
      "execution_count": null,
      "id": "f7f28de5",
      "metadata": {
        "id": "f7f28de5",
        "colab": {
          "base_uri": "https://localhost:8080/"
        },
        "outputId": "e82561d4-05fa-4fbb-acda-0469a5e909e2"
      },
      "outputs": [
        {
          "output_type": "stream",
          "name": "stdout",
          "text": [
            "Predicted Class: [0]\n"
          ]
        }
      ],
      "source": [
        "sample_point = np.array([5.1, 3.5, 1.4, 0.2, 1])  # Adding a bias term (1) as the 5th feature\n",
        "maximum = -2\n",
        "ind = 0\n",
        "\n",
        "for idx, w in weights.iterrows():\n",
        "    a = sample_point.flatten()\n",
        "    b = np.array(w).flatten()\n",
        "    s = a.dot(b)\n",
        "    if s > maximum:\n",
        "        maximum = s\n",
        "        ind = idx\n",
        "\n",
        "predicted_class = lb.fit_transform([ind])[0]\n",
        "print(f\"Predicted Class: {predicted_class}\") # Class 0: Iris-setosa"
      ]
    }
  ],
  "metadata": {
    "colab": {
      "provenance": []
    },
    "kernelspec": {
      "display_name": "Python 3 (ipykernel)",
      "language": "python",
      "name": "python3"
    },
    "language_info": {
      "codemirror_mode": {
        "name": "ipython",
        "version": 3
      },
      "file_extension": ".py",
      "mimetype": "text/x-python",
      "name": "python",
      "nbconvert_exporter": "python",
      "pygments_lexer": "ipython3",
      "version": "3.11.5"
    }
  },
  "nbformat": 4,
  "nbformat_minor": 5
}